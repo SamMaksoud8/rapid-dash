{
 "cells": [
  {
   "cell_type": "code",
   "execution_count": 8,
   "metadata": {},
   "outputs": [
    {
     "data": {
      "text/plain": [
       "10"
      ]
     },
     "execution_count": 8,
     "metadata": {},
     "output_type": "execute_result"
    }
   ],
   "source": [
    "class ConcreteClass:\n",
    "    value=10\n",
    "    def __init__(self):\n",
    "        pass\n",
    "ConcreteClass.value"
   ]
  },
  {
   "cell_type": "code",
   "execution_count": 10,
   "metadata": {},
   "outputs": [
    {
     "data": {
      "text/plain": [
       "20"
      ]
     },
     "execution_count": 10,
     "metadata": {},
     "output_type": "execute_result"
    }
   ],
   "source": [
    "ConcreteClass.value=20\n",
    "ConcreteClass.value"
   ]
  },
  {
   "cell_type": "code",
   "execution_count": 6,
   "metadata": {},
   "outputs": [],
   "source": [
    "import yaml\n",
    "\n",
    "with open('test.yaml') as file:\n",
    "    try:\n",
    "        databaseConfig = yaml.safe_load(file)   \n",
    "    except yaml.YAMLError as exc:\n",
    "        print(exc)"
   ]
  },
  {
   "cell_type": "code",
   "execution_count": 7,
   "metadata": {},
   "outputs": [
    {
     "data": {
      "text/plain": [
       "{'h1_title': 'Dashboard Demo',\n",
       " 'div_id': 'tabs-content-example-dash',\n",
       " 'tabs': [{'type': 'DashboardTab',\n",
       "   'label': 'Example Bar Plot',\n",
       "   'csv_path': './data/data.csv',\n",
       "   'chart_type': 'bar',\n",
       "   'graph_columns': [{'x': 'consensus', 'y': 'price'},\n",
       "    {'x': 'consensus', 'y': 'volume'}]}]}"
      ]
     },
     "execution_count": 7,
     "metadata": {},
     "output_type": "execute_result"
    }
   ],
   "source": []
  },
  {
   "cell_type": "code",
   "execution_count": 20,
   "metadata": {},
   "outputs": [],
   "source": [
    "import custom_dashboards\n",
    "from dashboards import Dashboard\n",
    "dashboards={}\n",
    "for name, obj in vars(custom_dashboards).items():\n",
    "    if isinstance(obj, type) and issubclass(obj, Dashboard):\n",
    "        dashboards[name] = obj\n",
    "dashboards"
   ]
  },
  {
   "cell_type": "code",
   "execution_count": 21,
   "metadata": {},
   "outputs": [
    {
     "data": {
      "text/plain": [
       "['Dashboard', 'ExampleDashboard', 'ExampleDropDownDashboard']"
      ]
     },
     "execution_count": 21,
     "metadata": {},
     "output_type": "execute_result"
    }
   ],
   "source": [
    "[name for name, obj in vars(custom_dashboards).items() if (isinstance(obj, type) and issubclass(obj, custom_dashboards.Dashboard))]"
   ]
  },
  {
   "cell_type": "code",
   "execution_count": 13,
   "metadata": {},
   "outputs": [
    {
     "data": {
      "text/plain": [
       "True"
      ]
     },
     "execution_count": 13,
     "metadata": {},
     "output_type": "execute_result"
    }
   ],
   "source": [
    "issubclass(custom_dashboards.ExampleDashboard,Dashboard)"
   ]
  }
 ],
 "metadata": {
  "kernelspec": {
   "display_name": "base",
   "language": "python",
   "name": "python3"
  },
  "language_info": {
   "codemirror_mode": {
    "name": "ipython",
    "version": 3
   },
   "file_extension": ".py",
   "mimetype": "text/x-python",
   "name": "python",
   "nbconvert_exporter": "python",
   "pygments_lexer": "ipython3",
   "version": "3.9.12"
  },
  "orig_nbformat": 4
 },
 "nbformat": 4,
 "nbformat_minor": 2
}
